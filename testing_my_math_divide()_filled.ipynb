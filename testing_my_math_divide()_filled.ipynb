{
  "nbformat": 4,
  "nbformat_minor": 0,
  "metadata": {
    "colab": {
      "provenance": [],
      "include_colab_link": true
    },
    "kernelspec": {
      "name": "python3",
      "display_name": "Python 3"
    },
    "language_info": {
      "name": "python"
    }
  },
  "cells": [
    {
      "cell_type": "markdown",
      "metadata": {
        "id": "view-in-github",
        "colab_type": "text"
      },
      "source": [
        "<a href=\"https://colab.research.google.com/github/AkshayN1097/ISYS5002/blob/main/testing_my_math_divide()_filled.ipynb\" target=\"_parent\"><img src=\"https://colab.research.google.com/assets/colab-badge.svg\" alt=\"Open In Colab\"/></a>"
      ]
    },
    {
      "cell_type": "markdown",
      "source": [
        "## Testing  my_math.divide()\n",
        "\n",
        "What is your preferred testing strategy? Do you like using the assert statement or prefer doctest?  \n",
        "\n",
        "Using your preferred testing strategy, develop a test table and test the following funciton.  Where required update the function so all test behave as expected.\n",
        "\n",
        "\n",
        "## Function to test"
      ],
      "metadata": {
        "id": "LIfoDVzKX7uK"
      }
    },
    {
      "cell_type": "code",
      "source": [
        "def divide(x, y):\n",
        "    '''Divide first by second number'''\n",
        "    return x / y"
      ],
      "metadata": {
        "id": "YH9gDoOYvKwg"
      },
      "execution_count": 86,
      "outputs": []
    },
    {
      "cell_type": "code",
      "source": [
        "divide(20,100)"
      ],
      "metadata": {
        "colab": {
          "base_uri": "https://localhost:8080/"
        },
        "id": "BuVjF7ORAROH",
        "outputId": "74973e19-fe7b-473d-8561-ac700886e9b5"
      },
      "execution_count": 87,
      "outputs": [
        {
          "output_type": "execute_result",
          "data": {
            "text/plain": [
              "True"
            ]
          },
          "metadata": {},
          "execution_count": 87
        }
      ]
    },
    {
      "cell_type": "code",
      "source": [
        "assert divide(20,100) == 0.2"
      ],
      "metadata": {
        "id": "zfJ3Skb5Cwab"
      },
      "execution_count": 88,
      "outputs": []
    },
    {
      "cell_type": "code",
      "source": [
        "divide(100,20)"
      ],
      "metadata": {
        "colab": {
          "base_uri": "https://localhost:8080/"
        },
        "id": "NhHTc00mC0a0",
        "outputId": "2bf27170-e42d-4c75-e4a9-ed24cc7fa627"
      },
      "execution_count": 47,
      "outputs": [
        {
          "output_type": "execute_result",
          "data": {
            "text/plain": [
              "5.0"
            ]
          },
          "metadata": {},
          "execution_count": 47
        }
      ]
    },
    {
      "cell_type": "code",
      "source": [
        "assert divide(100,20) == 5"
      ],
      "metadata": {
        "id": "V7ySf5WLCN-v"
      },
      "execution_count": 61,
      "outputs": []
    },
    {
      "cell_type": "code",
      "source": [
        "divide(100,50) "
      ],
      "metadata": {
        "colab": {
          "base_uri": "https://localhost:8080/"
        },
        "id": "2-pidWwCEdbQ",
        "outputId": "4e3d0481-1fe1-487e-b8ee-eaf7c1f1100f"
      },
      "execution_count": 92,
      "outputs": [
        {
          "output_type": "execute_result",
          "data": {
            "text/plain": [
              "True"
            ]
          },
          "metadata": {},
          "execution_count": 92
        }
      ]
    },
    {
      "cell_type": "code",
      "source": [
        "assert divide('100', 50) == 2"
      ],
      "metadata": {
        "colab": {
          "base_uri": "https://localhost:8080/",
          "height": 256
        },
        "id": "7qvW5MJ2DSSF",
        "outputId": "1e164fac-4bb3-4bae-b69d-f9d0697b13f4"
      },
      "execution_count": 95,
      "outputs": [
        {
          "output_type": "error",
          "ename": "TypeError",
          "evalue": "ignored",
          "traceback": [
            "\u001b[0;31m---------------------------------------------------------------------------\u001b[0m",
            "\u001b[0;31mTypeError\u001b[0m                                 Traceback (most recent call last)",
            "\u001b[0;32m<ipython-input-95-5305399c79ec>\u001b[0m in \u001b[0;36m<module>\u001b[0;34m\u001b[0m\n\u001b[0;32m----> 1\u001b[0;31m \u001b[0;32massert\u001b[0m \u001b[0mdivide\u001b[0m\u001b[0;34m(\u001b[0m\u001b[0;34m'100'\u001b[0m\u001b[0;34m,\u001b[0m \u001b[0;36m50\u001b[0m\u001b[0;34m)\u001b[0m \u001b[0;34m==\u001b[0m \u001b[0;36m2\u001b[0m\u001b[0;34m\u001b[0m\u001b[0;34m\u001b[0m\u001b[0m\n\u001b[0m",
            "\u001b[0;32m<ipython-input-86-a82be12db2a0>\u001b[0m in \u001b[0;36mdivide\u001b[0;34m(x, y)\u001b[0m\n\u001b[1;32m      1\u001b[0m \u001b[0;32mdef\u001b[0m \u001b[0mdivide\u001b[0m\u001b[0;34m(\u001b[0m\u001b[0mx\u001b[0m\u001b[0;34m,\u001b[0m \u001b[0my\u001b[0m\u001b[0;34m)\u001b[0m\u001b[0;34m:\u001b[0m\u001b[0;34m\u001b[0m\u001b[0;34m\u001b[0m\u001b[0m\n\u001b[1;32m      2\u001b[0m     \u001b[0;34m'''Divide first by second number'''\u001b[0m\u001b[0;34m\u001b[0m\u001b[0;34m\u001b[0m\u001b[0m\n\u001b[0;32m----> 3\u001b[0;31m     \u001b[0;32mreturn\u001b[0m \u001b[0mx\u001b[0m \u001b[0;34m/\u001b[0m \u001b[0my\u001b[0m\u001b[0;34m\u001b[0m\u001b[0;34m\u001b[0m\u001b[0m\n\u001b[0m",
            "\u001b[0;31mTypeError\u001b[0m: unsupported operand type(s) for /: 'str' and 'int'"
          ]
        }
      ]
    },
    {
      "cell_type": "code",
      "source": [
        "divide(5.5,10)"
      ],
      "metadata": {
        "colab": {
          "base_uri": "https://localhost:8080/"
        },
        "id": "ExyYYw-4C6hG",
        "outputId": "4adaea7c-92a4-4a75-fe6c-7256795f1651"
      },
      "execution_count": 90,
      "outputs": [
        {
          "output_type": "execute_result",
          "data": {
            "text/plain": [
              "0.55"
            ]
          },
          "metadata": {},
          "execution_count": 90
        }
      ]
    },
    {
      "cell_type": "code",
      "source": [
        "assert divide(5.5,10) == 0.55"
      ],
      "metadata": {
        "id": "WfNBAIX7C7DE"
      },
      "execution_count": 91,
      "outputs": []
    },
    {
      "cell_type": "code",
      "source": [
        "assert divide(5,10) "
      ],
      "metadata": {
        "id": "mBc8WqWtC7Vy"
      },
      "execution_count": 79,
      "outputs": []
    },
    {
      "cell_type": "code",
      "source": [
        "assert divide(-5,'10') == 0.5"
      ],
      "metadata": {
        "id": "pbtQ2nm1C7r7"
      },
      "execution_count": null,
      "outputs": []
    },
    {
      "cell_type": "code",
      "source": [
        "divide(9.5, '10') == 0.95"
      ],
      "metadata": {
        "id": "76PO0ePvC8B-"
      },
      "execution_count": null,
      "outputs": []
    },
    {
      "cell_type": "code",
      "source": [
        "assert divide(9.5, '10') == 0.95"
      ],
      "metadata": {
        "colab": {
          "base_uri": "https://localhost:8080/",
          "height": 256
        },
        "id": "nM3Bwd4SDG8L",
        "outputId": "ded9c366-451a-4576-d92c-57a79f7df33a"
      },
      "execution_count": 85,
      "outputs": [
        {
          "output_type": "error",
          "ename": "TypeError",
          "evalue": "ignored",
          "traceback": [
            "\u001b[0;31m---------------------------------------------------------------------------\u001b[0m",
            "\u001b[0;31mTypeError\u001b[0m                                 Traceback (most recent call last)",
            "\u001b[0;32m<ipython-input-85-0a57cb8f1288>\u001b[0m in \u001b[0;36m<module>\u001b[0;34m\u001b[0m\n\u001b[0;32m----> 1\u001b[0;31m \u001b[0;32massert\u001b[0m \u001b[0mdivide\u001b[0m\u001b[0;34m(\u001b[0m\u001b[0;36m9.5\u001b[0m\u001b[0;34m,\u001b[0m \u001b[0;34m'10'\u001b[0m\u001b[0;34m)\u001b[0m \u001b[0;34m==\u001b[0m \u001b[0;36m0.95\u001b[0m\u001b[0;34m\u001b[0m\u001b[0;34m\u001b[0m\u001b[0m\n\u001b[0m",
            "\u001b[0;32m<ipython-input-84-a82be12db2a0>\u001b[0m in \u001b[0;36mdivide\u001b[0;34m(x, y)\u001b[0m\n\u001b[1;32m      1\u001b[0m \u001b[0;32mdef\u001b[0m \u001b[0mdivide\u001b[0m\u001b[0;34m(\u001b[0m\u001b[0mx\u001b[0m\u001b[0;34m,\u001b[0m \u001b[0my\u001b[0m\u001b[0;34m)\u001b[0m\u001b[0;34m:\u001b[0m\u001b[0;34m\u001b[0m\u001b[0;34m\u001b[0m\u001b[0m\n\u001b[1;32m      2\u001b[0m     \u001b[0;34m'''Divide first by second number'''\u001b[0m\u001b[0;34m\u001b[0m\u001b[0;34m\u001b[0m\u001b[0m\n\u001b[0;32m----> 3\u001b[0;31m     \u001b[0;32mreturn\u001b[0m \u001b[0mx\u001b[0m \u001b[0;34m/\u001b[0m \u001b[0my\u001b[0m\u001b[0;34m\u001b[0m\u001b[0;34m\u001b[0m\u001b[0m\n\u001b[0m",
            "\u001b[0;31mTypeError\u001b[0m: unsupported operand type(s) for /: 'float' and 'str'"
          ]
        }
      ]
    },
    {
      "cell_type": "markdown",
      "source": [],
      "metadata": {
        "id": "Fb_v03xgIIsk"
      }
    },
    {
      "cell_type": "code",
      "source": [],
      "metadata": {
        "id": "NvJq5xb8C8Xc"
      },
      "execution_count": null,
      "outputs": []
    },
    {
      "cell_type": "markdown",
      "source": [
        "## Test Table\n",
        "\n",
        "| Test # | Type    | Data     | Expected | Actual | Pass/Fail |\n",
        "|--------|---------|----------|----------|--------|-----------|\n",
        "|  1    | Valid    | 20,100   |  0.2     |  0.2   | pass      |\n",
        "|  2    | Valid    | 100,20   |  5.0     |  0.5   | pass      |\n",
        "|  3    | Valid    | 100,50   |  2.0     |  2.0   | pass      |\n",
        "|  4    | Valid    | 5.5,10   |  0.55    |  0.55  | pass      |\n",
        "|  5    | Invalid  | '5','10' |not a number|type error| fail  |\n",
        "|  6    | Invalid  | '9.5',10 |not a number|type error| fail  |"
      ],
      "metadata": {
        "id": "JYSZ-53nLF6n"
      }
    },
    {
      "cell_type": "markdown",
      "source": [
        "# SIDE NOTE\n",
        "\n",
        "In the code:\n",
        "\n",
        "*Divide(9.5, '10')*\n",
        "\n",
        "*assert Divide(9.5, '10') == 0.95*\n",
        "\n",
        "\n",
        "The above code should have given me an 'assertion error', but it gave me a 'type error', even though during our lab session, a very similar code which was:\n",
        "\n",
        "*assert add('2', '3') == 5*\n",
        "\n",
        "\n",
        "This gave an assertion error during the lab session, don't know why it didn't get applied now. Regardless, I have filled the test cases."
      ],
      "metadata": {
        "id": "TU0ICSE4M9zb"
      }
    },
    {
      "cell_type": "code",
      "source": [],
      "metadata": {
        "id": "u69WUUcONset"
      },
      "execution_count": null,
      "outputs": []
    }
  ]
}