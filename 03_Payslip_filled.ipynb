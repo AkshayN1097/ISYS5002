{
  "nbformat": 4,
  "nbformat_minor": 0,
  "metadata": {
    "colab": {
      "name": "03_Payslip_filled.ipynb",
      "provenance": [],
      "collapsed_sections": [],
      "include_colab_link": true
    },
    "kernelspec": {
      "name": "python3",
      "display_name": "Python 3"
    },
    "language_info": {
      "name": "python"
    }
  },
  "cells": [
    {
      "cell_type": "markdown",
      "metadata": {
        "id": "view-in-github",
        "colab_type": "text"
      },
      "source": [
        "<a href=\"https://colab.research.google.com/github/AkshayN1097/ISYS5002/blob/main/03_Payslip_filled.ipynb\" target=\"_parent\"><img src=\"https://colab.research.google.com/assets/colab-badge.svg\" alt=\"Open In Colab\"/></a>"
      ]
    },
    {
      "cell_type": "markdown",
      "source": [
        "# Task: Write a program to print out a payslip for hourly paid employees. <br>\n",
        "Modify the Gross pay activity to print out a payslip for hourly paid employees.<br>Refer to week 2's Gross Pay activity.\n",
        "\n",
        "[What has to be on a pay slip?](https://www.fairwork.gov.au/pay-and-wages/paying-wages/pay-slips#what-has-to-be-on-a-pay-slip)\n",
        "\n",
        "[Resident tax rates 2022–23](https://www.ato.gov.au/rates/individual-income-tax-rates/)"
      ],
      "metadata": {
        "id": "2jQsL4QPFfuG"
      }
    },
    {
      "cell_type": "markdown",
      "source": [
        "# Following the 5-steps problem solving process, we will analyse the requirements and design the solution and then we can develop an algorithm/pseudocode.\n",
        "\n",
        "\n",
        "1.  State the problem clearly\n",
        "2.  Describe the input and output information\n",
        "3.  Work the problem by hand\n",
        "4.  Develop an algorithm / pseudocode\n",
        "5.  Convert pseudocode into python code\n",
        "\n",
        "\n",
        "\n",
        "\n",
        "\n"
      ],
      "metadata": {
        "id": "lIMMLIjTrxSL"
      }
    },
    {
      "cell_type": "markdown",
      "source": [
        "#First step: Stating the problem clearly\n",
        "\n",
        "We are required to make/print out a payslip for hourly paid employees."
      ],
      "metadata": {
        "id": "3XNGVO0cH7VI"
      }
    },
    {
      "cell_type": "markdown",
      "source": [
        "#Second step: Input and Output information\n",
        "\n",
        "**INPUT:**\n",
        "\n",
        "Employer’s and employee’s name.\n",
        "\n",
        "Employer’s Australian Business Number (if applicable)\n",
        "\n",
        "Pay period\n",
        "\n",
        "Date of payment\n",
        "\n",
        "Gross and net pay\n",
        "\n",
        "\n",
        "If the employee is paid an hourly rate:\n",
        "\n",
        " - the ordinary hourly rate\n",
        " - the number of hours worked at that rate\n",
        " - the total dollar amount of pay at that rate\n",
        "\n",
        "\n",
        "\n",
        "**OUTPUT:**\n",
        "\n",
        "Employee specific payslip with the above details \n",
        "\n",
        "\n"
      ],
      "metadata": {
        "id": "DYTZ1-_qIs9A"
      }
    },
    {
      "cell_type": "markdown",
      "source": [
        "#Third step: Working the problem by hand\n",
        "\n",
        "We will assign the employees with their names, employer info, date of payment, pay period, ordinary hourly rate, number of hours worked, total dollar amout of pay\n",
        "\n",
        "We will assign employees with different amounts of income and applied taxation will be calculated for the said income. "
      ],
      "metadata": {
        "id": "Jklqp-H4StnL"
      }
    },
    {
      "cell_type": "markdown",
      "source": [
        "#Fourth Step: Creating an Alogrithm/Pseudocode"
      ],
      "metadata": {
        "id": "2tuYmb0OSdrG"
      }
    },
    {
      "cell_type": "code",
      "source": [
        "#Step 1: Define the employee names and their related data\n",
        "#Step 2: Create a formula to calculate the tax for employees gross income\n",
        "#Step 3: Run the gross income through the taxable income formula to get the taxable amount\n",
        "#Step 4: Subtract the taxable amount from the gross income\n",
        "#Step 5: Create a prompt for asking the name of the employee for whom we want the payslip.\n",
        "#Step 6: Fill in the necessary details needed in a payslip for the specified employee."
      ],
      "metadata": {
        "id": "l1ihZFpsSQjt"
      },
      "execution_count": null,
      "outputs": []
    },
    {
      "cell_type": "markdown",
      "source": [
        "# Fifth step: Convert pseudocode into Python Code"
      ],
      "metadata": {
        "id": "5QmqgrExWAR4"
      }
    },
    {
      "cell_type": "code",
      "source": [
        "Employee_1 = 'John'\n",
        "Employee_2 = 'Alexander'\n",
        "Employee_3 = 'Michael'\n",
        "\n",
        "Employer = 'Bayview resorts'\n",
        "Employer_Bus_Num = 19283742891\n",
        "\n",
        "John_pay_period = 22\n",
        "John_paydate = '31st August'\n",
        "John_hourly_rate = 25\n",
        "John_hours = 8*John_pay_period\n",
        "John_dollars = John_hourly_rate*John_hours\n",
        "John_Gross_inc = John_dollars\n",
        "\n",
        "if John_Gross_inc <= 18200:\n",
        "  John_tax_payable = 0\n",
        "elif 18201 <= John_Gross_inc <= 45000:\n",
        "  John_tax_payable = (John_Gross_inc - 18200) *0.19\n",
        "elif 45000 < John_Gross_inc <= 120000:\n",
        "  John_tax_payable = ((John_Gross_inc - 45000)*0.325) + 5092\n",
        "elif 120000 < John_Gross_inc <= 180000:\n",
        "  John_tax_payable = ((John_Gross_inc - 45000)*0.37) + 29467\n",
        "else:\n",
        "  John_tax_payable = ((John_Gross_inc - 120000) *0.45) + 51667\n",
        "John_Net_inc = John_Gross_inc - John_tax_payable\n",
        "\n",
        "\n",
        "Alexander_pay_period = 20\n",
        "Alexander_paydate = '31st August'\n",
        "Alexander_hourly_rate = 350\n",
        "Alexander_hours = 6*Alexander_pay_period\n",
        "Alexander_dollars = Alexander_hourly_rate*Alexander_hours\n",
        "Alexander_Gross_inc = Alexander_dollars\n",
        "if Alexander_Gross_inc <= 18200:\n",
        "  Alexander_tax_payable = 0\n",
        "elif 18201 <= Alexander_Gross_inc <= 45000:\n",
        "  Alexander_tax_payable = (Alexander_Gross_inc - 18200) *0.19\n",
        "elif 45000 < Alexander_Gross_inc <= 120000:\n",
        "  Alexander_tax_payable = ((Alexander_Gross_inc - 45000)*0.325) + 5092\n",
        "elif 120000 < Alexander_Gross_inc <= 180000:\n",
        "  Alexander_tax_payable = ((Alexander_Gross_inc - 45000)*0.37) + 29467\n",
        "else:\n",
        "  Alexander_tax_payable = ((Alexander_Gross_inc - 120000) *0.45) + 51667\n",
        "Alexander_Net_inc = Alexander_Gross_inc - Alexander_tax_payable\n",
        "\n",
        "\n",
        "Michael_pay_period = 18\n",
        "Michael_paydate = '31st August'\n",
        "Michael_hourly_rate = 500\n",
        "Michael_hours = 7*Michael_pay_period\n",
        "Michael_dollars = Michael_hourly_rate*Michael_hours\n",
        "Michael_Gross_inc = Michael_dollars\n",
        "\n",
        "if Michael_Gross_inc <= 18200:\n",
        "    Michael_tax_payable = 0\n",
        "elif 18201 <= Michael_Gross_inc <= 45000:\n",
        "    Michael_tax_payable = (Michael_Gross_inc - 18200)*0.19\n",
        "elif 45000 < Michael_Gross_inc <= 120000:\n",
        "    Michael_tax_payable = ((Michael_Gross_inc - 45000)*0.325)+5092\n",
        "elif 120000 < Michael_Gross_inc <= 180000:\n",
        "    Michael_tax_payable = ((Michael_Gross_inc - 45000)*0.37)+29467\n",
        "else:\n",
        "    Michael_tax_payable = ((Michael_Gross_inc - 120000)*0.45)+51667\n",
        "Michael_Net_inc = Michael_Gross_inc - Michael_tax_payable\n",
        "\n",
        "Employee_info = input('Employee name: ')\n",
        "if Employee_info == Employee_1:\n",
        "  print(\"Employer's name: \", Employer)\n",
        "  print(\"Employer's ABN: \", Employer_Bus_Num)\n",
        "  print(\"Pay date: \", John_paydate)\n",
        "  print(\"Pay period: \", John_pay_period)\n",
        "  print('==============================')\n",
        "  print(\"Hourly rate: \", John_hourly_rate)\n",
        "  print(\"Hours worked: \", John_hours)\n",
        "  print(\"Total dollars earned: \", John_dollars)\n",
        "  print('==============================')\n",
        "  print(\"Gross income\", John_Gross_inc)\n",
        "  print(\"Tax payable: \", John_tax_payable)\n",
        "  print(\"Net income:\", John_Net_inc)\n",
        "\n",
        "elif Employee_info == Employee_2:\n",
        "  print(\"Employer's name: \", Employer)\n",
        "  print(\"Employer's ABN: \", Employer_Bus_Num)\n",
        "  print(\"Pay date: \", Alexander_paydate)\n",
        "  print(\"Pay period: \", Alexander_pay_period)\n",
        "  print('==============================')\n",
        "  print(\"Hourly rate: \", Alexander_hourly_rate)\n",
        "  print(\"Hours worked: \", Alexander_hours)\n",
        "  print(\"Total dollars earned: \", Alexander_dollars)\n",
        "  print('==============================')\n",
        "  print(\"Gross income\", Alexander_Gross_inc)\n",
        "  print(\"Tax payable: \", Alexander_tax_payable)\n",
        "  print(\"Net income:\", Alexander_Net_inc)\n",
        "\n",
        "else:\n",
        "  print(\"Employer's name: \", Employer)\n",
        "  print(\"Employer's ABN: \", Employer_Bus_Num)\n",
        "  print(\"Pay date: \", Michael_paydate)\n",
        "  print(\"Pay period: \", Michael_pay_period)\n",
        "  print('==============================')\n",
        "  print(\"Hourly rate: \", Michael_hourly_rate)\n",
        "  print(\"Hours worked: \", Michael_hours)\n",
        "  print(\"Total dollars earned: \", Michael_dollars)\n",
        "  print('==============================')\n",
        "  print(\"Gross income\", Michael_Gross_inc)\n",
        "  print(\"Tax payable: \", Michael_tax_payable)\n",
        "  print(\"Net income:\", Michael_Net_inc)\n",
        "\n",
        "\n",
        "\n",
        "\n",
        "\n"
      ],
      "metadata": {
        "colab": {
          "base_uri": "https://localhost:8080/"
        },
        "id": "OmtZSIJwWKCz",
        "outputId": "35437e82-4a49-420b-ea4d-6a53c8064d74"
      },
      "execution_count": null,
      "outputs": [
        {
          "output_type": "stream",
          "name": "stdout",
          "text": [
            "Employee name: Michael\n",
            "employer's name:  Bayview resorts\n",
            "employer's ABN:  19283742891\n",
            "Pay date:  31st August\n",
            "Pay period:  18\n",
            "==============================\n",
            "Hourly rate:  500\n",
            "Hours worked:  126\n",
            "Total dollars earned:  63000\n",
            "==============================\n",
            "Gross income 63000\n",
            "tax payable:  10942.0\n",
            "Net income: 52058.0\n"
          ]
        }
      ]
    },
    {
      "cell_type": "code",
      "source": [
        ""
      ],
      "metadata": {
        "id": "l1kRNVQOkKZn"
      },
      "execution_count": null,
      "outputs": []
    }
  ]
}