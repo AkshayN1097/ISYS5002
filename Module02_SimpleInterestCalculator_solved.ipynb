{
  "nbformat": 4,
  "nbformat_minor": 0,
  "metadata": {
    "colab": {
      "name": "Module02_SimpleInterestCalculator_solved.ipynb",
      "provenance": [],
      "include_colab_link": true
    },
    "kernelspec": {
      "name": "python3",
      "display_name": "Python 3"
    },
    "language_info": {
      "name": "python"
    }
  },
  "cells": [
    {
      "cell_type": "markdown",
      "metadata": {
        "id": "view-in-github",
        "colab_type": "text"
      },
      "source": [
        "<a href=\"https://colab.research.google.com/github/AkshayN1097/ISYS5002/blob/main/Module02_SimpleInterestCalculator_solved.ipynb\" target=\"_parent\"><img src=\"https://colab.research.google.com/assets/colab-badge.svg\" alt=\"Open In Colab\"/></a>"
      ]
    },
    {
      "cell_type": "markdown",
      "source": [
        "# Simple Interest Calculator\n",
        "\n",
        "The process of problem solving we will use can be broken down into 6 key steps:\n",
        "1. State the problem clearly\n",
        "2. Describe the input and output information\n",
        "3. Work the problem by hand\n",
        "4. Develop an algorithm / pseudocode\n",
        "5. Convert pseudoce to Python program code\n",
        "6. Test solution with a variety of data\n",
        "\n",
        "## Work Flow\n",
        "1. Save to Github\n",
        "2. Analyse problem/requirement & Design the algorithm/pseudocode\n",
        "3. Write and test the program"
      ],
      "metadata": {
        "id": "iGq9-ZTb3VCF"
      }
    },
    {
      "cell_type": "markdown",
      "source": [
        "# Problem/Requirement:\n",
        "\n",
        "Bank ABC wants to calculate their client's loan interest using the simple interest method as explained at https://www.bankrate.com/loans/personal-loans/how-to-calculate-loan-interest/\n",
        "\n",
        "Write a program for bank ABC to compute the loan interest on their client's borrowed amount based on the simple interest method. \n",
        "\n",
        "\n",
        "\n",
        "\n"
      ],
      "metadata": {
        "id": "bhfP5hvE4k7C"
      }
    },
    {
      "cell_type": "markdown",
      "source": [
        "# 1. State Problem Clearly"
      ],
      "metadata": {
        "id": "DSkLjERz3vF4"
      }
    },
    {
      "cell_type": "markdown",
      "source": [
        "*Bank ABC wants to calcalculate their client's loan interest using the simple interest method. Bank ABC wants us to write a program to compute the loan interest on their client's borrowed amount based on the simple interest method.*"
      ],
      "metadata": {
        "id": "tVaK-EQo4ff8"
      }
    },
    {
      "cell_type": "markdown",
      "source": [
        "# 2. Describe Inputs and Outputs"
      ],
      "metadata": {
        "id": "25s3HK5730CD"
      }
    },
    {
      "cell_type": "markdown",
      "source": [
        "Inputs: \n",
        "\n",
        "\n",
        "* *Principal loan amount*\n",
        "* *Interest rate*\n",
        "* *Total number of months or years agreed up on for repaying the loan*\n",
        "\n",
        "\n",
        "\n",
        "Outputs:\n",
        "\n",
        "* *Overall interest costs*   \n",
        "\n",
        "\n"
      ],
      "metadata": {
        "id": "JLhIpogG4gKn"
      }
    },
    {
      "cell_type": "markdown",
      "source": [
        "# 3. Work the problem by hand - worked example"
      ],
      "metadata": {
        "id": "6f4dt-ln37HF"
      }
    },
    {
      "cell_type": "code",
      "source": [
        "#For example, if you take out a five-year loan for $20,000 and the interest rate on the loan is 5 percent:\n",
        "\n",
        "#$20,000 * 0.05 = $1,000 in interest/year\n",
        "\n",
        "#For a five-year loan, the calculation would be\n",
        "# $1000 * 5 = $5000, overall interest payable for the loan."
      ],
      "metadata": {
        "id": "QtmZreg_B7Pq"
      },
      "execution_count": 3,
      "outputs": []
    },
    {
      "cell_type": "markdown",
      "source": [
        "# 4. Develop an Algorithm/Pseudocode"
      ],
      "metadata": {
        "id": "LoEHWS9p4Edn"
      }
    },
    {
      "cell_type": "code",
      "source": [
        "#principal amount = $20,000\n",
        "#interest rate = 0.05\n",
        "#loan repayment time = 5 years\n",
        "\n",
        "#interest for 1 year = principal amount * 0.05\n",
        "#overall interest to be paid = interest for 1 year * 5\n"
      ],
      "metadata": {
        "id": "dqDef2VsDHBB"
      },
      "execution_count": null,
      "outputs": []
    },
    {
      "cell_type": "markdown",
      "source": [
        "# 5. Convert Pseudocode to Python Code"
      ],
      "metadata": {
        "id": "dtlaNDkf4TZ0"
      }
    },
    {
      "cell_type": "code",
      "execution_count": 7,
      "metadata": {
        "id": "gh53G9xt2_KJ",
        "colab": {
          "base_uri": "https://localhost:8080/"
        },
        "outputId": "df2d0f6d-102e-4204-9655-5baa55aaf85f"
      },
      "outputs": [
        {
          "output_type": "stream",
          "name": "stdout",
          "text": [
            "Your principal amount: 20000\n",
            "Your interest rate: 0.05\n",
            "Number of years to repay the loan: 5\n",
            "Your total interest payable for the loan: 5000.0\n"
          ]
        }
      ],
      "source": [
        "principal_amount = int(input('Your principal amount: '))\n",
        "interest_rate = float(input('Your interest rate: '))\n",
        "loan_repayment_time = int(input('Number of years to repay the loan: '))\n",
        "overall_interest = principal_amount * interest_rate * loan_repayment_time\n",
        "print(\"Your total interest payable for the loan:\", overall_interest)"
      ]
    },
    {
      "cell_type": "markdown",
      "source": [
        "# 6. Test Solution with a variety of data"
      ],
      "metadata": {
        "id": "4gSCYBI74Yf-"
      }
    },
    {
      "cell_type": "code",
      "source": [
        "principal_amount = int(input('Your principal amount: '))\n",
        "interest_rate = float(input('Your interest rate: '))\n",
        "loan_repayment_time = int(input('Number of years to repay the loan: '))\n",
        "overall_interest = principal_amount * interest_rate * loan_repayment_time\n",
        "print(\"Your total interest payable for the loan:\", overall_interest)"
      ],
      "metadata": {
        "id": "s5tVf-P44dTj",
        "colab": {
          "base_uri": "https://localhost:8080/"
        },
        "outputId": "62455536-6d86-4351-f1b1-3541db5260bc"
      },
      "execution_count": 8,
      "outputs": [
        {
          "output_type": "stream",
          "name": "stdout",
          "text": [
            "Your principal amount: 35000\n",
            "Your interest rate: 0.1\n",
            "Number of years to repay the loan: 5\n",
            "Your total interest payable for the loan: 17500.0\n"
          ]
        }
      ]
    },
    {
      "cell_type": "code",
      "source": [
        "principal_amount = int(input('Your principal amount: '))\n",
        "interest_rate = float(input('Your interest rate: '))\n",
        "loan_repayment_time = int(input('Number of years to repay the loan: '))\n",
        "overall_interest = principal_amount * interest_rate * loan_repayment_time\n",
        "print(\"Your total interest payable for the loan:\", overall_interest)"
      ],
      "metadata": {
        "colab": {
          "base_uri": "https://localhost:8080/"
        },
        "id": "6SMMigOZM7Gf",
        "outputId": "8f7de75a-78fa-4738-bf23-9ad4eb1e268d"
      },
      "execution_count": 11,
      "outputs": [
        {
          "output_type": "stream",
          "name": "stdout",
          "text": [
            "Your principal amount: 1000000\n",
            "Your interest rate: 0.04\n",
            "Number of years to repay the loan: 20\n",
            "Your total interest payable for the loan: 800000.0\n"
          ]
        }
      ]
    },
    {
      "cell_type": "code",
      "source": [
        "principal_amount = int(input('Your principal amount: '))\n",
        "interest_rate = float(input('Your interest rate: '))\n",
        "loan_repayment_time = int(input('Number of years to repay the loan: '))\n",
        "overall_interest = principal_amount * interest_rate * loan_repayment_time\n",
        "print(\"Your total interest payable for the loan:\", overall_interest)"
      ],
      "metadata": {
        "colab": {
          "base_uri": "https://localhost:8080/"
        },
        "id": "8XynDLr4Rdpn",
        "outputId": "c3681569-48e3-4ee4-f5ff-c117c51ede4d"
      },
      "execution_count": 12,
      "outputs": [
        {
          "output_type": "stream",
          "name": "stdout",
          "text": [
            "Your principal amount: 360000\n",
            "Your interest rate: 0.0219\n",
            "Number of years to repay the loan: 30\n",
            "Your total interest payable for the loan: 236520.0\n"
          ]
        }
      ]
    }
  ]
}