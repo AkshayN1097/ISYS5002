{
  "nbformat": 4,
  "nbformat_minor": 0,
  "metadata": {
    "colab": {
      "name": "03_Random Number List_filled.ipynb",
      "provenance": [],
      "collapsed_sections": [
        "rtiCoY2fXsOm"
      ],
      "include_colab_link": true
    },
    "kernelspec": {
      "name": "python3",
      "display_name": "Python 3"
    },
    "language_info": {
      "name": "python"
    }
  },
  "cells": [
    {
      "cell_type": "markdown",
      "metadata": {
        "id": "view-in-github",
        "colab_type": "text"
      },
      "source": [
        "<a href=\"https://colab.research.google.com/github/AkshayN1097/ISYS5002/blob/main/03_Random_Number_List_filled.ipynb\" target=\"_parent\"><img src=\"https://colab.research.google.com/assets/colab-badge.svg\" alt=\"Open In Colab\"/></a>"
      ]
    },
    {
      "cell_type": "markdown",
      "source": [
        "## Task 0: Save the notebook to Github"
      ],
      "metadata": {
        "id": "rtiCoY2fXsOm"
      }
    },
    {
      "cell_type": "markdown",
      "source": [
        "## Task 1: Randomly generate numbers and store them in a list"
      ],
      "metadata": {
        "id": "JrutiGpyXUx3"
      }
    },
    {
      "cell_type": "code",
      "execution_count": null,
      "metadata": {
        "id": "XaXgvcY-XNE_",
        "colab": {
          "base_uri": "https://localhost:8080/"
        },
        "outputId": "88449189-910f-445e-a5f7-029fadd14312"
      },
      "outputs": [
        {
          "output_type": "stream",
          "name": "stdout",
          "text": [
            "11\n"
          ]
        }
      ],
      "source": [
        "#randomly generate the numbers\n",
        "import random\n",
        "randnum = random.randint(10,20)\n",
        "print(randnum)"
      ]
    },
    {
      "cell_type": "code",
      "source": [
        "#determine odd or even number\n",
        "import random\n",
        "randNum = random.randint(10,20)\n",
        "\n",
        "if randNum % 2 == 0:\n",
        "  print(randnum, \"is an even number\")\n",
        "else:\n",
        "  print(randNum, \"is an odd number\")"
      ],
      "metadata": {
        "id": "ApNg7M0K64Ae"
      },
      "execution_count": null,
      "outputs": []
    },
    {
      "cell_type": "code",
      "source": [
        "#add the random number to a list\n",
        "\n",
        "randlist = []\n",
        "for item in range (1,20):\n",
        "  randNum = random.randint(10,20)\n",
        "  randlist.append(randNum)\n",
        "\n",
        "print(randlist)"
      ],
      "metadata": {
        "colab": {
          "base_uri": "https://localhost:8080/"
        },
        "id": "OYomGkz_7i8x",
        "outputId": "63981e91-fdac-4eab-c25c-7852a2125122"
      },
      "execution_count": null,
      "outputs": [
        {
          "output_type": "stream",
          "name": "stdout",
          "text": [
            "[11, 10, 12, 12, 11, 16, 16, 15, 20, 19, 18, 17, 20, 16, 10, 18, 11, 10, 19]\n"
          ]
        }
      ]
    },
    {
      "cell_type": "code",
      "source": [
        "#random numbers added to odd or even list\n",
        "\n",
        "randlist = []\n",
        "oddlist = []\n",
        "evenlist = []\n",
        "\n",
        "for item in range (1,6):\n",
        "  randNum = random.randint(10,20)\n",
        "  randlist.append(randNum)\n",
        "\n",
        "if item % 2 == 0:\n",
        "  \n",
        "  evenlist.append(randNum)\n",
        "  #print(randNum, \"is an odd number\")\n",
        "\n",
        "else:\n",
        "  oddlist.append(randNum)\n",
        "\n",
        "print(randlist)\n",
        "print(oddlist)\n",
        "print(evenlist)\n"
      ],
      "metadata": {
        "colab": {
          "base_uri": "https://localhost:8080/"
        },
        "id": "z6ORWII-8Tgi",
        "outputId": "c3cae866-ec19-449e-9a1f-ba421b2de3a3"
      },
      "execution_count": null,
      "outputs": [
        {
          "output_type": "stream",
          "name": "stdout",
          "text": [
            "[12, 14, 13, 17, 17]\n",
            "[17]\n",
            "[]\n"
          ]
        }
      ]
    },
    {
      "cell_type": "markdown",
      "source": [
        "## Optional: \n",
        "### Randomly generate numbers and store in two lists: odd and even.\n",
        "### For each list find the minimum, maximum and average"
      ],
      "metadata": {
        "id": "zjjcoEONXf23"
      }
    },
    {
      "cell_type": "code",
      "source": [
        ""
      ],
      "metadata": {
        "id": "ZduCTWusYA1m",
        "colab": {
          "base_uri": "https://localhost:8080/"
        },
        "outputId": "827088b8-eb33-4b2c-87be-a7b2e31ff011"
      },
      "execution_count": null,
      "outputs": [
        {
          "output_type": "stream",
          "name": "stdout",
          "text": [
            "Enter the size of the First List ::9\n",
            "Enter the Element of First  List ::\n",
            "9\n",
            "2\n",
            "12\n",
            "32\n",
            "2\n",
            "1\n",
            "23\n",
            "32\n",
            "22\n",
            "Even lists: [2, 12, 32, 2, 32, 22]\n",
            "Odd lists: [9, 1, 23]\n"
          ]
        }
      ]
    }
  ]
}