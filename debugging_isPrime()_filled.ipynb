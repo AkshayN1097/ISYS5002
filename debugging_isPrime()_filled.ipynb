{
  "nbformat": 4,
  "nbformat_minor": 0,
  "metadata": {
    "colab": {
      "provenance": [],
      "include_colab_link": true
    },
    "kernelspec": {
      "name": "python3",
      "display_name": "Python 3"
    },
    "language_info": {
      "name": "python"
    }
  },
  "cells": [
    {
      "cell_type": "markdown",
      "metadata": {
        "id": "view-in-github",
        "colab_type": "text"
      },
      "source": [
        "<a href=\"https://colab.research.google.com/github/AkshayN1097/ISYS5002/blob/main/debugging_isPrime()_filled.ipynb\" target=\"_parent\"><img src=\"https://colab.research.google.com/assets/colab-badge.svg\" alt=\"Open In Colab\"/></a>"
      ]
    },
    {
      "cell_type": "markdown",
      "source": [
        "## Debug isPrime()\n",
        "What is your preferred method? Do you like using print() or prefer *pdb*?   Since mistakes in programs will happen, the important part is that you have a debugging strategy, not which tool you use.\n",
        "\n",
        "Here is a function that needs debugging. Using either print() or *pdb*, debug the following function."
      ],
      "metadata": {
        "id": "LIfoDVzKX7uK"
      }
    },
    {
      "cell_type": "code",
      "source": [],
      "metadata": {
        "id": "YH9gDoOYvKwg"
      },
      "execution_count": null,
      "outputs": []
    },
    {
      "cell_type": "code",
      "source": [
        "import pdb\n"
      ],
      "metadata": {
        "id": "CLTxkwMJZbCW"
      },
      "execution_count": 4,
      "outputs": []
    },
    {
      "cell_type": "code",
      "source": [
        "def isPrime(candidate):\n",
        "\n",
        "  if candidate <= 1:\n",
        "        return False\n",
        "  print(candidate)\n",
        "  lower = candidate - 1\n",
        "  print(lower)\n",
        "  while lower > 1:\n",
        "    print(lower)\n",
        "    if candidate / lower == candidate // lower:\n",
        "          print('inside if: ')\n",
        "          print(candidate/lower)\n",
        "          print(candidate//lower)\n",
        "          return False\n",
        "        \n",
        "    lower -= 1\n",
        "        \n",
        "  return True\n",
        "isPrime(5)"
      ],
      "metadata": {
        "colab": {
          "base_uri": "https://localhost:8080/"
        },
        "id": "FOQKFi_M-WwH",
        "outputId": "039fcaba-a435-4a75-f34d-df20e0f8903c"
      },
      "execution_count": 52,
      "outputs": [
        {
          "output_type": "stream",
          "name": "stdout",
          "text": [
            "5\n",
            "4\n",
            "4\n",
            "3\n",
            "2\n"
          ]
        },
        {
          "output_type": "execute_result",
          "data": {
            "text/plain": [
              "True"
            ]
          },
          "metadata": {},
          "execution_count": 52
        }
      ]
    },
    {
      "cell_type": "markdown",
      "source": [
        "# **ANSWER:**\n",
        "This code is used to determine whether a number is a prime number or not.\n",
        "\n",
        "Debugging process was done using the print function. No bugs were found in the code. Results were produced logically and were mathematically accurate. "
      ],
      "metadata": {
        "id": "_YfK3ejq6kUW"
      }
    },
    {
      "cell_type": "code",
      "source": [],
      "metadata": {
        "id": "CLxU8pdR6qnv"
      },
      "execution_count": 52,
      "outputs": []
    }
  ]
}