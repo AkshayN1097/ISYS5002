{
  "nbformat": 4,
  "nbformat_minor": 0,
  "metadata": {
    "colab": {
      "name": "Sundae winner.ipynb",
      "provenance": [],
      "authorship_tag": "ABX9TyOGt5v/b/V+GM673nCjBUHz",
      "include_colab_link": true
    },
    "kernelspec": {
      "name": "python3",
      "display_name": "Python 3"
    },
    "language_info": {
      "name": "python"
    }
  },
  "cells": [
    {
      "cell_type": "markdown",
      "metadata": {
        "id": "view-in-github",
        "colab_type": "text"
      },
      "source": [
        "<a href=\"https://colab.research.google.com/github/AkshayN1097/ISYS5002/blob/main/Sundae_winner.ipynb\" target=\"_parent\"><img src=\"https://colab.research.google.com/assets/colab-badge.svg\" alt=\"Open In Colab\"/></a>"
      ]
    },
    {
      "cell_type": "markdown",
      "source": [
        "Program to choose Sundae winner"
      ],
      "metadata": {
        "id": "lIiJK_riEXFk"
      }
    },
    {
      "cell_type": "code",
      "source": [
        "customers = ['Jimmy', 'Kim', 'John', 'Stacie'] #list of customers participating"
      ],
      "metadata": {
        "id": "Eu_YGZXbJrh6"
      },
      "execution_count": 1,
      "outputs": []
    },
    {
      "cell_type": "code",
      "source": [
        "import random #imported 'random' function to randomize the name list in order to choose the winner"
      ],
      "metadata": {
        "id": "cMRJYKG0V6ca"
      },
      "execution_count": 5,
      "outputs": []
    },
    {
      "cell_type": "code",
      "source": [
        "winner = random.choice(customers) #assigning the value for winner from the customers list to be random"
      ],
      "metadata": {
        "id": "v304RhO5WSJx"
      },
      "execution_count": 20,
      "outputs": []
    },
    {
      "cell_type": "code",
      "source": [
        "flavor = 'vanilla' #assigning 'vanila' as the value for flavour."
      ],
      "metadata": {
        "id": "jnbQldx0WYpR"
      },
      "execution_count": 7,
      "outputs": []
    },
    {
      "cell_type": "code",
      "source": [
        "print('Congratulations ' + winner + \n",
        " ' you have won an ice cream sundae!') #Random winner announced from the customer list."
      ],
      "metadata": {
        "id": "R2UKIdvcWvL2"
      },
      "execution_count": null,
      "outputs": []
    },
    {
      "cell_type": "code",
      "source": [
        "prompt = 'Would you like a cherry on top? ' #once winner chosen, winner will be prompted with a question, which is the value for prompt."
      ],
      "metadata": {
        "id": "eIzM82cbYYIv"
      },
      "execution_count": 30,
      "outputs": []
    },
    {
      "cell_type": "code",
      "source": [
        "wants_cherry = input(prompt) #The customer will prompted with this question to choose if they want a cherry on top"
      ],
      "metadata": {
        "colab": {
          "base_uri": "https://localhost:8080/"
        },
        "id": "RzpbDLV1YeK-",
        "outputId": "339f8cb5-f739-4645-a6f6-b76ad8dfb1c9"
      },
      "execution_count": 45,
      "outputs": [
        {
          "name": "stdout",
          "output_type": "stream",
          "text": [
            "Would you like a cherry on top? yes\n"
          ]
        }
      ]
    },
    {
      "cell_type": "code",
      "source": [
        "order = flavor + ' sundae ' #customer's order for the sundae. \"vanilla\" was the value assigned to flavor in the previous line."
      ],
      "metadata": {
        "id": "dB__DBq-cpdL"
      },
      "execution_count": 46,
      "outputs": []
    },
    {
      "cell_type": "code",
      "source": [
        "if (wants_cherry == 'yes'):\n",
        " order = order + ' with a cherry on top' #if the customer customer chooses yes, customer's final order will include the sentence \"with a cherry on top\""
      ],
      "metadata": {
        "id": "68JTQPNJcxIQ"
      },
      "execution_count": 47,
      "outputs": []
    },
    {
      "cell_type": "code",
      "source": [
        "print('One ' + order + ' for ' + winner + \n",
        " ' coming right up...') #final order quote"
      ],
      "metadata": {
        "colab": {
          "base_uri": "https://localhost:8080/"
        },
        "id": "raGwZgFVc9Uf",
        "outputId": "f04bbbf6-60bb-4bb3-d49b-1f3f17c641d3"
      },
      "execution_count": 48,
      "outputs": [
        {
          "output_type": "stream",
          "name": "stdout",
          "text": [
            "One vanilla sundae  with a cherry on top for Kim coming right up...\n"
          ]
        }
      ]
    }
  ]
}