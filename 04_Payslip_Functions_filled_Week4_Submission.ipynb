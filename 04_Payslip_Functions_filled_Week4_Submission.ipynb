{
  "nbformat": 4,
  "nbformat_minor": 0,
  "metadata": {
    "colab": {
      "name": "04_Payslip_Functions_filled_Week4_Submission.ipynb",
      "provenance": [],
      "collapsed_sections": [],
      "include_colab_link": true
    },
    "kernelspec": {
      "name": "python3",
      "display_name": "Python 3"
    },
    "language_info": {
      "name": "python"
    }
  },
  "cells": [
    {
      "cell_type": "markdown",
      "metadata": {
        "id": "view-in-github",
        "colab_type": "text"
      },
      "source": [
        "<a href=\"https://colab.research.google.com/github/AkshayN1097/ISYS5002/blob/main/04_Payslip_Functions_filled_Week4_Submission.ipynb\" target=\"_parent\"><img src=\"https://colab.research.google.com/assets/colab-badge.svg\" alt=\"Open In Colab\"/></a>"
      ]
    },
    {
      "cell_type": "markdown",
      "source": [
        "# Task: Write a program to print out a payslip for hourly paid employees. <br>\n",
        "Modify the Gross pay & paylisp activities to print out a payslip for hourly paid employees.<br>Refer to week 2's Gross Pay and week 3's Payslip submission activities.\n",
        "\n",
        "[What has to be on a pay slip?](https://www.fairwork.gov.au/pay-and-wages/paying-wages/pay-slips#what-has-to-be-on-a-pay-slip)\n",
        "\n",
        "[Resident tax rates 2022–23](https://www.ato.gov.au/rates/individual-income-tax-rates/)"
      ],
      "metadata": {
        "id": "2jQsL4QPFfuG"
      }
    },
    {
      "cell_type": "markdown",
      "source": [
        "# Implement this Payslip program as functions:\n",
        "\n",
        "- Function to receive details to calculate income\n",
        "- Function to calculate income, tax payable & income after tax\n",
        "- Function to print the payslip with details: \n",
        "> employee name, hourly pay rate, hours worked, gross income, tax payable, income after tax\n",
        "\n"
      ],
      "metadata": {
        "id": "u6HZryjcFBok"
      }
    },
    {
      "cell_type": "markdown",
      "source": [
        "## Step 1: Get Income details"
      ],
      "metadata": {
        "id": "r2IUoUrsGfyW"
      }
    },
    {
      "cell_type": "code",
      "source": [
        "def details():\n",
        "  \n",
        "  Employer = input(\"Employer's name: \")\n",
        "  \n",
        "  Employer_Bus_Num = 19283742891\n",
        "  print(\"Employer bus number: \", Employer_Bus_Num)\n",
        "  \n",
        "  employee_name = input(\"Employee name: \")\n",
        "  \n",
        "  pay_period = float(input(\"Pay period: \"))\n",
        "  \n",
        "  paydate = input(\"Pay date : \")\n",
        "  \n",
        "  hourly_rate = float(input(\"Hourly rate: $\"))\n",
        "  \n",
        "  hours = float(input(\"Daily working hours: \"))\n",
        "  global total_work_hours\n",
        "  total_work_hours = hours*pay_period\n",
        "  global dollars\n",
        "  dollars = hourly_rate * total_work_hours\n",
        "  global gross_inc\n",
        "  gross_inc = float(dollars)\n",
        "\n",
        "\n",
        "  \n",
        "  \n"
      ],
      "metadata": {
        "id": "4rI6b9phozpT"
      },
      "execution_count": 137,
      "outputs": []
    },
    {
      "cell_type": "markdown",
      "source": [
        "## Step 2: Calculate the income, tax payable & income after tax"
      ],
      "metadata": {
        "id": "pgt-5XVqGnWG"
      }
    },
    {
      "cell_type": "code",
      "source": [
        "def tax_formula():\n",
        "  if gross_inc <= 18200:\n",
        "    global tax_payable \n",
        "    tax_payable = 0\n",
        "  elif 18201 <= gross_inc <= 45000:\n",
        "      tax_payable = (gross_inc - 18200) *0.19\n",
        "  elif 45000 < gross_inc <= 120000:\n",
        "        tax_payable = ((gross_inc - 45000)*0.325) + 5092\n",
        "  elif 120000 < gross_inc <= 180000:\n",
        "          tax_payable = ((gross_inc - 45000)*0.37) + 29467\n",
        "  else:\n",
        "            tax_payable = ((gross_inc - 120000) *0.45) + 51667\n",
        "\n"
      ],
      "metadata": {
        "id": "WIXvwfVVGtbM"
      },
      "execution_count": 138,
      "outputs": []
    },
    {
      "cell_type": "code",
      "source": [
        ""
      ],
      "metadata": {
        "id": "2Y20lz3wURPZ"
      },
      "execution_count": 144,
      "outputs": []
    },
    {
      "cell_type": "markdown",
      "source": [
        "## Step 3: Print the payslip"
      ],
      "metadata": {
        "id": "kO2J7-wTGt-k"
      }
    },
    {
      "cell_type": "code",
      "source": [
        "def pay_slip():\n",
        "  net_income = gross_inc - tax_payable  \n",
        "  print(\"Total working hours: \", total_work_hours)\n",
        "  print(\"Total dollars earned: \", dollars)\n",
        "  print(\"Gross income\", gross_inc )\n",
        "  print(\"Tax payable: \",tax_payable)\n",
        "  print(\"Net income:\", net_income) "
      ],
      "metadata": {
        "id": "4Eda7V6t8XH9"
      },
      "execution_count": 141,
      "outputs": []
    },
    {
      "cell_type": "markdown",
      "metadata": {
        "id": "BNdsJ9jszwRi"
      },
      "source": [
        "## Task 2 - Complete the program"
      ]
    },
    {
      "cell_type": "code",
      "execution_count": 145,
      "metadata": {
        "id": "pd8m2I1uMuAu",
        "colab": {
          "base_uri": "https://localhost:8080/"
        },
        "outputId": "dc33cf4c-1f74-4f89-c855-10f3167ad5f4"
      },
      "outputs": [
        {
          "output_type": "stream",
          "name": "stdout",
          "text": [
            "Employer's name: Bayview resorts\n",
            "Employer bus number:  19283742891\n",
            "Employee name: John Mayer\n",
            "Pay period: 24\n",
            "Pay date : 31.08.2020\n",
            "Hourly rate: $450\n",
            "Daily working hours: 8\n",
            "Total working hours:  192.0\n",
            "Total dollars earned:  86400.0\n",
            "Gross income 86400.0\n",
            "Tax payable:  18547.0\n",
            "Net income: 67853.0\n"
          ]
        }
      ],
      "source": [
        "# 'Main line'\n",
        "\n",
        "# Step 1 - Get details\n",
        "details()\n",
        "\n",
        "# Step 2 - Calculate \n",
        "tax_formula()\n",
        "\n",
        "# Step 3 - Output result - Print payslip\n",
        "pay_slip()\n"
      ]
    }
  ]
}