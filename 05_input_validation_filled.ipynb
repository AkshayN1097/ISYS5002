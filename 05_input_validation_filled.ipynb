{
  "cells": [
    {
      "cell_type": "markdown",
      "metadata": {
        "id": "view-in-github",
        "colab_type": "text"
      },
      "source": [
        "<a href=\"https://colab.research.google.com/github/AkshayN1097/ISYS5002/blob/main/05_input_validation_filled.ipynb\" target=\"_parent\"><img src=\"https://colab.research.google.com/assets/colab-badge.svg\" alt=\"Open In Colab\"/></a>"
      ]
    },
    {
      "cell_type": "markdown",
      "id": "b5835b0c",
      "metadata": {
        "id": "b5835b0c"
      },
      "source": [
        "# Input Validation\n",
        "\n",
        "Input validation code verifies that user supplied data, such as text from the input() function, is formatted appropriately.\n",
        "\n",
        "* isdigit()\n",
        "* try/except\n",
        "* PyInputPlus\n",
        "\n"
      ]
    },
    {
      "cell_type": "code",
      "source": [
        "salaryStr = (input(\"Enter the hourly pay rate: \"))\n",
        "\n",
        "print(salaryStr)"
      ],
      "metadata": {
        "id": "BA8h-pV08W0s",
        "colab": {
          "base_uri": "https://localhost:8080/"
        },
        "outputId": "a56c5756-c531-4c0c-9112-42a9b65e551f"
      },
      "id": "BA8h-pV08W0s",
      "execution_count": 3,
      "outputs": [
        {
          "output_type": "stream",
          "name": "stdout",
          "text": [
            "Enter the hourly pay rate: werera\n",
            "werera\n"
          ]
        }
      ]
    },
    {
      "cell_type": "markdown",
      "id": "acc7252b",
      "metadata": {
        "id": "acc7252b"
      },
      "source": [
        "## isdigit()"
      ]
    },
    {
      "cell_type": "code",
      "execution_count": 4,
      "id": "695b1f5f",
      "metadata": {
        "id": "695b1f5f",
        "colab": {
          "base_uri": "https://localhost:8080/"
        },
        "outputId": "3b224a37-4695-4ebe-d965-6d46037d917b"
      },
      "outputs": [
        {
          "output_type": "stream",
          "name": "stdout",
          "text": [
            "Enter the hourly pay rate: 23.4\n",
            "Invalid input for pay rate. Please enter a numeric value for pay rate.\n",
            "The pay rate is 23.4\n"
          ]
        }
      ],
      "source": [
        "while True:\n",
        "  salaryStr = (input(\"Enter the hourly pay rate: \"))\n",
        "\n",
        "  if salaryStr.isdigit():\n",
        "    float(salaryStr)\n",
        "  break\n",
        "\n",
        "else:\n",
        "      print(\"Invalid input for pay rate. Please enter a numeric value for pay rate.\")\n",
        "\n",
        "print(\"The pay rate is\", salaryStr)"
      ]
    },
    {
      "cell_type": "code",
      "source": [
        ""
      ],
      "metadata": {
        "id": "2T1VPdz4e35q"
      },
      "id": "2T1VPdz4e35q",
      "execution_count": null,
      "outputs": []
    },
    {
      "cell_type": "markdown",
      "source": [
        "## try/except"
      ],
      "metadata": {
        "id": "qbYXnPLGeY6m"
      },
      "id": "qbYXnPLGeY6m"
    },
    {
      "cell_type": "code",
      "execution_count": null,
      "id": "5f98c241",
      "metadata": {
        "id": "5f98c241"
      },
      "outputs": [],
      "source": [
        "try:\n",
        "  pay_rate = float(input(\"Entere the hourly pary rate: \"))\n",
        "except: \n",
        "  print(\"Please enter a valid input for pay rate. Pay rate must be numeric value.\")"
      ]
    },
    {
      "cell_type": "code",
      "source": [
        "try:\n",
        "  pay_rate = float(input(\"Entere the hourly pary rate: \"))\n",
        "except ValueError:\n",
        "  print(ValueError, \"Please enter a valid input for pay rate. Pay rate must be numeric value.\")"
      ],
      "metadata": {
        "id": "zrBmlwko8D6Z"
      },
      "id": "zrBmlwko8D6Z",
      "execution_count": null,
      "outputs": []
    },
    {
      "cell_type": "code",
      "source": [
        "while True:\n",
        "  try:\n",
        "    pay_rate = float(input(\"Entere the hourly pary rate: \"))\n",
        "    break\n",
        "    \n",
        "  except ZeroDivisionError as err:\n",
        "    print('Handling run-time error:', err)\n",
        "  except:\n",
        "    print(\"Error occured. Please check your input\")\n",
        "\n",
        "print(\"The pay rate is\", pay_rate)"
      ],
      "metadata": {
        "id": "ROOxtBEuBfS7"
      },
      "id": "ROOxtBEuBfS7",
      "execution_count": null,
      "outputs": []
    },
    {
      "cell_type": "markdown",
      "id": "18c00dc3",
      "metadata": {
        "id": "18c00dc3"
      },
      "source": [
        "## Module: PyInputPlus"
      ]
    },
    {
      "cell_type": "code",
      "execution_count": 6,
      "id": "dfe1740b",
      "metadata": {
        "id": "dfe1740b",
        "colab": {
          "base_uri": "https://localhost:8080/"
        },
        "outputId": "d1ccb7ae-6f6f-40fb-aecc-dfa9ff9532c9"
      },
      "outputs": [
        {
          "output_type": "stream",
          "name": "stdout",
          "text": [
            "Looking in indexes: https://pypi.org/simple, https://us-python.pkg.dev/colab-wheels/public/simple/\n",
            "Collecting PyInputPlus\n",
            "  Downloading PyInputPlus-0.2.12.tar.gz (20 kB)\n",
            "  Installing build dependencies ... \u001b[?25l\u001b[?25hdone\n",
            "  Getting requirements to build wheel ... \u001b[?25l\u001b[?25hdone\n",
            "    Preparing wheel metadata ... \u001b[?25l\u001b[?25hdone\n",
            "Collecting pysimplevalidate>=0.2.7\n",
            "  Downloading PySimpleValidate-0.2.12.tar.gz (22 kB)\n",
            "  Installing build dependencies ... \u001b[?25l\u001b[?25hdone\n",
            "  Getting requirements to build wheel ... \u001b[?25l\u001b[?25hdone\n",
            "    Preparing wheel metadata ... \u001b[?25l\u001b[?25hdone\n",
            "Collecting stdiomask>=0.0.3\n",
            "  Downloading stdiomask-0.0.6.tar.gz (3.6 kB)\n",
            "  Installing build dependencies ... \u001b[?25l\u001b[?25hdone\n",
            "  Getting requirements to build wheel ... \u001b[?25l\u001b[?25hdone\n",
            "    Preparing wheel metadata ... \u001b[?25l\u001b[?25hdone\n",
            "Building wheels for collected packages: PyInputPlus, pysimplevalidate, stdiomask\n",
            "  Building wheel for PyInputPlus (PEP 517) ... \u001b[?25l\u001b[?25hdone\n",
            "  Created wheel for PyInputPlus: filename=PyInputPlus-0.2.12-py3-none-any.whl size=11315 sha256=8dc9913305a55caf3b4102cf38703dbb1c1e210ac592ade03994c0f4b4eb1002\n",
            "  Stored in directory: /root/.cache/pip/wheels/e7/33/73/719f8f1bd984d39face880fd22f6c5ef1b85f726e84c687094\n",
            "  Building wheel for pysimplevalidate (PEP 517) ... \u001b[?25l\u001b[?25hdone\n",
            "  Created wheel for pysimplevalidate: filename=PySimpleValidate-0.2.12-py3-none-any.whl size=16193 sha256=c657df3e098d9260ddc3100e7883e0195f6c83a6afcdd4ccb0c2c356e155ad82\n",
            "  Stored in directory: /root/.cache/pip/wheels/5a/8b/6c/2925d22b93860bdc9b8ce02c3d2cf79336606f7469cef66065\n",
            "  Building wheel for stdiomask (PEP 517) ... \u001b[?25l\u001b[?25hdone\n",
            "  Created wheel for stdiomask: filename=stdiomask-0.0.6-py3-none-any.whl size=3321 sha256=f50768186313b40d4a3cc5772e1ad69cf989ced4244df11bdfce1c908d08d6ec\n",
            "  Stored in directory: /root/.cache/pip/wheels/cf/13/89/64d0d3b167759523f4c1e68f883bbc30e7bfa27050edeb418e\n",
            "Successfully built PyInputPlus pysimplevalidate stdiomask\n",
            "Installing collected packages: stdiomask, pysimplevalidate, PyInputPlus\n",
            "Successfully installed PyInputPlus-0.2.12 pysimplevalidate-0.2.12 stdiomask-0.0.6\n"
          ]
        }
      ],
      "source": [
        "pip install PyInputPlus"
      ]
    },
    {
      "cell_type": "code",
      "source": [
        "import pyinputplus as pyip\n",
        "while True:\n",
        "  payRate = pyip.inputFloat(\"Enter the pay rate: \")\n",
        "  print(\"the pay rate is\", payRate)\n",
        "\n",
        "  response = pyip.inputYesNo(\"Do you want to continue?\")\n",
        "  if response == 'no':\n",
        "    break"
      ],
      "metadata": {
        "id": "OvqPitIkh379",
        "colab": {
          "base_uri": "https://localhost:8080/"
        },
        "outputId": "20eb5ed6-bdd4-4596-82ba-d22038743784"
      },
      "id": "OvqPitIkh379",
      "execution_count": 11,
      "outputs": [
        {
          "name": "stdout",
          "output_type": "stream",
          "text": [
            "Enter the pay rate: 56\n",
            "the pay rate is 56.0\n",
            "Do you want to continue?no\n"
          ]
        }
      ]
    },
    {
      "cell_type": "markdown",
      "source": [
        "# Task: Implement input validation for Pay slip program\n",
        "\n",
        "- forthnightly payslip for hourly paid employee\n",
        "- pay after tax each forthnight"
      ],
      "metadata": {
        "id": "C2lOxtVxAbUf"
      },
      "id": "C2lOxtVxAbUf"
    }
  ],
  "metadata": {
    "kernelspec": {
      "display_name": "Python 3 (ipykernel)",
      "language": "python",
      "name": "python3"
    },
    "language_info": {
      "codemirror_mode": {
        "name": "ipython",
        "version": 3
      },
      "file_extension": ".py",
      "mimetype": "text/x-python",
      "name": "python",
      "nbconvert_exporter": "python",
      "pygments_lexer": "ipython3",
      "version": "3.9.6"
    },
    "colab": {
      "name": "05_input_validation_filled.ipynb",
      "provenance": [],
      "collapsed_sections": [],
      "include_colab_link": true
    }
  },
  "nbformat": 4,
  "nbformat_minor": 5
}